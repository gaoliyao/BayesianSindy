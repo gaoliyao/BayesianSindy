{
 "cells": [
  {
   "cell_type": "code",
   "execution_count": null,
   "metadata": {},
   "outputs": [],
   "source": [
    "import pymc3 as pm\n",
    "import numpy as np\n",
    "import matplotlib.pyplot as plt\n",
    "from pymc3.ode import DifferentialEquation\n",
    "from scipy.integrate import odeint\n",
    "import arviz as az\n",
    "import pandas\n",
    "\n",
    "%matplotlib inline"
   ]
  },
  {
   "cell_type": "code",
   "execution_count": null,
   "metadata": {},
   "outputs": [],
   "source": [
    "def SIR(y, t, p):\n",
    "    ds = -p[0]*y[0]*y[1]\n",
    "    di = p[0]*y[0]*y[1] - p[1]*y[1]    \n",
    "    return [ds, di]\n",
    "\n",
    "times = np.arange(0,5,0.25)\n",
    "\n",
    "beta,gamma = 4,1.0\n",
    "# Create true curves\n",
    "y = odeint(SIR, t=times, y0=[0.99, 0.01], args=((beta,gamma),), rtol=1e-8)\n",
    "# Observational model.  Lognormal likelihood isn't appropriate, but we'll do it anyway\n",
    "yobs = np.random.lognormal(mean=np.log(y[1::]), sigma=[0.2, 0.3])\n",
    "\n",
    "plt.plot(times[1::],yobs, marker='o', linestyle='none')\n",
    "plt.plot(times, y[:,0], color='C0', alpha=0.5, label=f'$S(t)$')\n",
    "plt.plot(times, y[:,1], color ='C1', alpha=0.5, label=f'$I(t)$')\n",
    "plt.legend()\n",
    "plt.show()"
   ]
  },
  {
   "cell_type": "code",
   "execution_count": null,
   "metadata": {},
   "outputs": [],
   "source": [
    "sir_model = DifferentialEquation(\n",
    "    func=SIR, \n",
    "    times=np.arange(0.25, 5, 0.25), \n",
    "    n_states=2,\n",
    "    n_theta=2,\n",
    "    t0=0,\n",
    ")\n",
    "\n",
    "with pm.Model() as model4:    \n",
    "    sigma = pm.HalfCauchy('sigma', 1, shape=2)\n",
    "    \n",
    "    # R0 is bounded below by 1 because we see an epidemic has occured\n",
    "    R0 = pm.Bound(pm.Normal, lower=1)('R0', 2,3)\n",
    "    lam = pm.Lognormal('lambda',pm.math.log(2),2)\n",
    "    beta = pm.Deterministic('beta', lam*R0)\n",
    "    \n",
    "    sir_curves = sir_model(y0=[0.99, 0.01], theta=[beta, lam])\n",
    "    \n",
    "    Y = pm.Lognormal('Y', mu=pm.math.log(sir_curves), sd=sigma, observed=yobs)\n",
    "\n",
    "    prior = pm.sample_prior_predictive()\n",
    "    trace = pm.sample(1000, tune=500, target_accept=0.9, cores=1)"
   ]
  },
  {
   "cell_type": "code",
   "execution_count": null,
   "metadata": {},
   "outputs": [],
   "source": [
    "with pm.Model() as model4:\n",
    "    posterior_predictive = pm.sample_posterior_predictive(trace)\n",
    "    data = az.from_pymc3(trace=trace, prior = prior, posterior_predictive = posterior_predictive)\n",
    "    az.plot_posterior(data,round_to=2, credible_interval=0.95);"
   ]
  },
  {
   "cell_type": "code",
   "execution_count": null,
   "metadata": {},
   "outputs": [],
   "source": [
    "## Predator Prey Model\n",
    "\n",
    "df = pandas.read_csv('hudson-bay-linx-hare.csv',header=1)\n",
    "\n",
    "year = df['Year']\n",
    "lynx = df['Lynx']\n",
    "hare = df['Hare']\n",
    "\n",
    "times = np.array(year,dtype=float)\n",
    "yobs = np.array([hare,lynx]).T\n",
    "\n",
    "plt.figure()\n",
    "plt.plot(year,hare,'-o')\n",
    "plt.plot(year,lynx,'-o')\n",
    "plt.xlabel('Year')\n",
    "plt.ylabel('Population')\n",
    "plt.show()"
   ]
  },
  {
   "cell_type": "code",
   "execution_count": null,
   "metadata": {},
   "outputs": [],
   "source": [
    "def predator_prey(y,t,p):\n",
    "    u,v = y[0], y[1]\n",
    "    alpha, beta, gamma, delta = p[0], p[1], p[2], p[3]\n",
    "    du_dt = (alpha - beta * v) * u\n",
    "    dv_dt = (-gamma + delta * u) * v\n",
    "    return [du_dt,dv_dt]\n",
    "\n",
    "predator_prey_model = DifferentialEquation(\n",
    "    func = predator_prey,\n",
    "    times = times,\n",
    "    n_states = 2,\n",
    "    n_theta = 4,\n",
    "    t0 = times[0]\n",
    ")\n",
    "\n",
    "with pm.Model() as model5:\n",
    "    \n",
    "    sigma = pm.Lognormal('sigma', mu=-1, sigma=1, shape=2) # sigma = pm.Normal('sigma', mu=0, sigma=1, shape=2)\n",
    "    alpha = pm.Normal('alpha', mu=1, sigma=0.5)\n",
    "    gamma = pm.Normal('gamma', mu=1, sigma=0.5)\n",
    "    beta  = pm.Normal('beta', mu=0.05, sigma=0.05)\n",
    "    delta = pm.Normal('delta', mu=0.05, sigma=0.05)\n",
    "    Y0    = pm.Lognormal('Y0', mu=pm.math.log(10), sigma=1, shape=2)\n",
    "    \n",
    "    # predator_prey_curves = predator_prey_model(y0=yobs[0,:], theta=[alpha,beta,gamma,delta])\n",
    "    predator_prey_curves = predator_prey_model(y0=Y0, theta=[alpha,beta,gamma,delta])\n",
    "    \n",
    "    Y = pm.Lognormal('Y', mu=pm.math.log(predator_prey_curves), sigma=sigma, observed=yobs)\n",
    "    \n",
    "    prior = pm.sample_prior_predictive()\n",
    "    trace = pm.sample(1000, tune=500, cores=2, init='adapt_diag')"
   ]
  },
  {
   "cell_type": "code",
   "execution_count": null,
   "metadata": {},
   "outputs": [],
   "source": [
    "with pm.Model() as model5:\n",
    "    posterior_predictive = pm.sample_posterior_predictive(trace)\n",
    "    data = az.from_pymc3(trace=trace, prior=prior, posterior_predictive=posterior_predictive)\n",
    "    az.plot_posterior(data, round_to=2, credible_interval=0.95);"
   ]
  }
 ],
 "metadata": {
  "kernelspec": {
   "display_name": "Python 3",
   "language": "python",
   "name": "python3"
  },
  "language_info": {
   "codemirror_mode": {
    "name": "ipython",
    "version": 3
   },
   "file_extension": ".py",
   "mimetype": "text/x-python",
   "name": "python",
   "nbconvert_exporter": "python",
   "pygments_lexer": "ipython3",
   "version": "3.7.4"
  }
 },
 "nbformat": 4,
 "nbformat_minor": 4
}
