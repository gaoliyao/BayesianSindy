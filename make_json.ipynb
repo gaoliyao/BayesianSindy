{
 "cells": [
  {
   "cell_type": "code",
   "execution_count": 1,
   "metadata": {},
   "outputs": [],
   "source": [
    "import pymc3 as pm\n",
    "import numpy as np\n",
    "import matplotlib.pyplot as plt\n",
    "import arviz as az\n",
    "import pandas"
   ]
  },
  {
   "cell_type": "code",
   "execution_count": 2,
   "metadata": {},
   "outputs": [],
   "source": [
    "from scipy.integrate import ode\n",
    "df = pandas.read_csv('hudson-bay-linx-hare.csv',header=1)\n",
    "\n",
    "year = df['Year']\n",
    "lynx = df['Lynx']\n",
    "hare = df['Hare']\n",
    "\n",
    "times = np.array(year,dtype=float)\n",
    "yobs = np.array([hare,lynx]).T \n",
    "yobs_norm = yobs/ yobs.std(axis=0)\n",
    "#N = len(times)"
   ]
  },
  {
   "cell_type": "code",
   "execution_count": 3,
   "metadata": {},
   "outputs": [],
   "source": [
    "N = len(year) - 1\n",
    "ts = np.arange(1,N+1).tolist()\n",
    "y_init = yobs_norm[0].tolist()\n",
    "y = yobs_norm[1:].tolist()"
   ]
  },
  {
   "cell_type": "code",
   "execution_count": 4,
   "metadata": {},
   "outputs": [],
   "source": [
    "lk_data = {\n",
    "    'N' : N,\n",
    "    'ts' : ts,\n",
    "    'y_init' : y_init,\n",
    "    'y' : y,\n",
    "    'slab_df' : 4.0,\n",
    "    'slab_scale' : 2.0,\n",
    "    'd' : 10,\n",
    "}\n",
    "\n",
    "import json\n",
    "with open('lk_data_real.json', 'w') as json_file:\n",
    "  json.dump(lk_data, json_file)"
   ]
  },
  {
   "cell_type": "code",
   "execution_count": 5,
   "metadata": {},
   "outputs": [
    {
     "data": {
      "text/plain": [
       "'/home/hirshs/stan'"
      ]
     },
     "execution_count": 5,
     "metadata": {},
     "output_type": "execute_result"
    }
   ],
   "source": [
    "pwd"
   ]
  },
  {
   "cell_type": "code",
   "execution_count": 6,
   "metadata": {},
   "outputs": [],
   "source": [
    "trace = az.from_cmdstan('cmdstan/examples/lotka_bdf/output.csv')"
   ]
  },
  {
   "cell_type": "code",
   "execution_count": 7,
   "metadata": {},
   "outputs": [
    {
     "name": "stderr",
     "output_type": "stream",
     "text": [
      "/home/hirshs/anaconda3/envs/mars-sunode/lib/python3.7/site-packages/ipykernel_launcher.py:4: UserWarning: This figure was using constrained_layout==True, but that is incompatible with subplots_adjust and or tight_layout: setting constrained_layout==False. \n",
      "  after removing the cwd from sys.path.\n"
     ]
    },
    {
     "data": {
      "text/plain": [
       "<Figure size 432x288 with 0 Axes>"
      ]
     },
     "metadata": {},
     "output_type": "display_data"
    },
    {
     "data": {
      "image/png": "[encoded data removed]",
      "text/plain": [
       "<Figure size 432x864 with 1 Axes>"
      ]
     },
     "metadata": {
      "needs_background": "light"
     },
     "output_type": "display_data"
    }
   ],
   "source": [
    "plt.figure()\n",
    "myplot = az.plot_forest(trace, var_names=['theta'], kind='ridgeplot', combined=True, figsize=(6,12), ridgeplot_quantiles=[.25, .5, .75])[0]\n",
    "plt.title('Posterior')\n",
    "plt.tight_layout()\n",
    "plt.show()"
   ]
  },
  {
   "cell_type": "code",
   "execution_count": 9,
   "metadata": {
    "scrolled": false
   },
   "outputs": [
    {
     "name": "stderr",
     "output_type": "stream",
     "text": [
      "arviz.stats.stats_utils - WARNING - Shape validation failed: input_shape: (1, 1000), minimum_shape: (chains=2, draws=4)\n",
      "arviz.stats.stats_utils - WARNING - Shape validation failed: input_shape: (1, 1000), minimum_shape: (chains=2, draws=4)\n",
      "arviz.stats.stats_utils - WARNING - Shape validation failed: input_shape: (1, 1000), minimum_shape: (chains=2, draws=4)\n",
      "arviz.stats.stats_utils - WARNING - Shape validation failed: input_shape: (1, 1000), minimum_shape: (chains=2, draws=4)\n",
      "arviz.stats.stats_utils - WARNING - Shape validation failed: input_shape: (1, 1000), minimum_shape: (chains=2, draws=4)\n",
      "arviz.stats.stats_utils - WARNING - Shape validation failed: input_shape: (1, 1000), minimum_shape: (chains=2, draws=4)\n",
      "arviz.stats.stats_utils - WARNING - Shape validation failed: input_shape: (1, 1000), minimum_shape: (chains=2, draws=4)\n",
      "arviz.stats.stats_utils - WARNING - Shape validation failed: input_shape: (1, 1000), minimum_shape: (chains=2, draws=4)\n",
      "arviz.stats.stats_utils - WARNING - Shape validation failed: input_shape: (1, 1000), minimum_shape: (chains=2, draws=4)\n",
      "arviz.stats.stats_utils - WARNING - Shape validation failed: input_shape: (1, 1000), minimum_shape: (chains=2, draws=4)\n",
      "arviz.stats.stats_utils - WARNING - Shape validation failed: input_shape: (1, 1000), minimum_shape: (chains=2, draws=4)\n"
     ]
    },
    {
     "data": {
      "text/html": [
       "<div>\n",
       "<style scoped>\n",
       "    .dataframe tbody tr th:only-of-type {\n",
       "        vertical-align: middle;\n",
       "    }\n",
       "\n",
       "    .dataframe tbody tr th {\n",
       "        vertical-align: top;\n",
       "    }\n",
       "\n",
       "    .dataframe thead th {\n",
       "        text-align: right;\n",
       "    }\n",
       "</style>\n",
       "<table border=\"1\" class=\"dataframe\">\n",
       "  <thead>\n",
       "    <tr style=\"text-align: right;\">\n",
       "      <th></th>\n",
       "      <th>mean</th>\n",
       "      <th>sd</th>\n",
       "      <th>hpd_3%</th>\n",
       "      <th>hpd_97%</th>\n",
       "      <th>mcse_mean</th>\n",
       "      <th>mcse_sd</th>\n",
       "      <th>ess_mean</th>\n",
       "      <th>ess_sd</th>\n",
       "      <th>ess_bulk</th>\n",
       "      <th>ess_tail</th>\n",
       "      <th>r_hat</th>\n",
       "    </tr>\n",
       "  </thead>\n",
       "  <tbody>\n",
       "    <tr>\n",
       "      <th>theta[0]</th>\n",
       "      <td>0.049</td>\n",
       "      <td>0.122</td>\n",
       "      <td>-0.001</td>\n",
       "      <td>0.123</td>\n",
       "      <td>0.062</td>\n",
       "      <td>0.047</td>\n",
       "      <td>4.0</td>\n",
       "      <td>4.0</td>\n",
       "      <td>2.0</td>\n",
       "      <td>24.0</td>\n",
       "      <td>NaN</td>\n",
       "    </tr>\n",
       "    <tr>\n",
       "      <th>theta[1]</th>\n",
       "      <td>-0.002</td>\n",
       "      <td>0.107</td>\n",
       "      <td>-0.036</td>\n",
       "      <td>0.110</td>\n",
       "      <td>0.009</td>\n",
       "      <td>0.010</td>\n",
       "      <td>130.0</td>\n",
       "      <td>61.0</td>\n",
       "      <td>9.0</td>\n",
       "      <td>26.0</td>\n",
       "      <td>NaN</td>\n",
       "    </tr>\n",
       "    <tr>\n",
       "      <th>theta[2]</th>\n",
       "      <td>0.015</td>\n",
       "      <td>0.123</td>\n",
       "      <td>-0.012</td>\n",
       "      <td>0.058</td>\n",
       "      <td>0.018</td>\n",
       "      <td>0.013</td>\n",
       "      <td>46.0</td>\n",
       "      <td>46.0</td>\n",
       "      <td>9.0</td>\n",
       "      <td>15.0</td>\n",
       "      <td>NaN</td>\n",
       "    </tr>\n",
       "    <tr>\n",
       "      <th>theta[3]</th>\n",
       "      <td>-0.138</td>\n",
       "      <td>0.218</td>\n",
       "      <td>-0.214</td>\n",
       "      <td>0.016</td>\n",
       "      <td>0.075</td>\n",
       "      <td>0.055</td>\n",
       "      <td>8.0</td>\n",
       "      <td>8.0</td>\n",
       "      <td>2.0</td>\n",
       "      <td>13.0</td>\n",
       "      <td>NaN</td>\n",
       "    </tr>\n",
       "    <tr>\n",
       "      <th>theta[4]</th>\n",
       "      <td>-0.030</td>\n",
       "      <td>0.094</td>\n",
       "      <td>-0.082</td>\n",
       "      <td>0.006</td>\n",
       "      <td>0.036</td>\n",
       "      <td>0.027</td>\n",
       "      <td>7.0</td>\n",
       "      <td>7.0</td>\n",
       "      <td>8.0</td>\n",
       "      <td>17.0</td>\n",
       "      <td>NaN</td>\n",
       "    </tr>\n",
       "    <tr>\n",
       "      <th>theta[5]</th>\n",
       "      <td>0.020</td>\n",
       "      <td>0.119</td>\n",
       "      <td>-0.102</td>\n",
       "      <td>0.184</td>\n",
       "      <td>0.034</td>\n",
       "      <td>0.025</td>\n",
       "      <td>12.0</td>\n",
       "      <td>12.0</td>\n",
       "      <td>8.0</td>\n",
       "      <td>15.0</td>\n",
       "      <td>NaN</td>\n",
       "    </tr>\n",
       "    <tr>\n",
       "      <th>theta[6]</th>\n",
       "      <td>0.041</td>\n",
       "      <td>0.079</td>\n",
       "      <td>-0.001</td>\n",
       "      <td>0.083</td>\n",
       "      <td>0.043</td>\n",
       "      <td>0.034</td>\n",
       "      <td>3.0</td>\n",
       "      <td>3.0</td>\n",
       "      <td>2.0</td>\n",
       "      <td>22.0</td>\n",
       "      <td>NaN</td>\n",
       "    </tr>\n",
       "    <tr>\n",
       "      <th>theta[7]</th>\n",
       "      <td>-1.596</td>\n",
       "      <td>0.424</td>\n",
       "      <td>-2.413</td>\n",
       "      <td>-1.350</td>\n",
       "      <td>0.184</td>\n",
       "      <td>0.245</td>\n",
       "      <td>5.0</td>\n",
       "      <td>2.0</td>\n",
       "      <td>2.0</td>\n",
       "      <td>16.0</td>\n",
       "      <td>NaN</td>\n",
       "    </tr>\n",
       "    <tr>\n",
       "      <th>theta[8]</th>\n",
       "      <td>-0.035</td>\n",
       "      <td>0.075</td>\n",
       "      <td>-0.057</td>\n",
       "      <td>0.004</td>\n",
       "      <td>0.004</td>\n",
       "      <td>0.004</td>\n",
       "      <td>407.0</td>\n",
       "      <td>193.0</td>\n",
       "      <td>10.0</td>\n",
       "      <td>16.0</td>\n",
       "      <td>NaN</td>\n",
       "    </tr>\n",
       "    <tr>\n",
       "      <th>theta[9]</th>\n",
       "      <td>-0.042</td>\n",
       "      <td>0.208</td>\n",
       "      <td>-0.075</td>\n",
       "      <td>0.019</td>\n",
       "      <td>0.061</td>\n",
       "      <td>0.044</td>\n",
       "      <td>12.0</td>\n",
       "      <td>12.0</td>\n",
       "      <td>3.0</td>\n",
       "      <td>11.0</td>\n",
       "      <td>NaN</td>\n",
       "    </tr>\n",
       "    <tr>\n",
       "      <th>tau</th>\n",
       "      <td>0.041</td>\n",
       "      <td>0.089</td>\n",
       "      <td>0.013</td>\n",
       "      <td>0.067</td>\n",
       "      <td>0.019</td>\n",
       "      <td>0.013</td>\n",
       "      <td>23.0</td>\n",
       "      <td>23.0</td>\n",
       "      <td>4.0</td>\n",
       "      <td>18.0</td>\n",
       "      <td>NaN</td>\n",
       "    </tr>\n",
       "  </tbody>\n",
       "</table>\n",
       "</div>"
      ],
      "text/plain": [
       "           mean     sd  hpd_3%  hpd_97%  mcse_mean  mcse_sd  ess_mean  ess_sd  \\\n",
       "theta[0]  0.049  0.122  -0.001    0.123      0.062    0.047       4.0     4.0   \n",
       "theta[1] -0.002  0.107  -0.036    0.110      0.009    0.010     130.0    61.0   \n",
       "theta[2]  0.015  0.123  -0.012    0.058      0.018    0.013      46.0    46.0   \n",
       "theta[3] -0.138  0.218  -0.214    0.016      0.075    0.055       8.0     8.0   \n",
       "theta[4] -0.030  0.094  -0.082    0.006      0.036    0.027       7.0     7.0   \n",
       "theta[5]  0.020  0.119  -0.102    0.184      0.034    0.025      12.0    12.0   \n",
       "theta[6]  0.041  0.079  -0.001    0.083      0.043    0.034       3.0     3.0   \n",
       "theta[7] -1.596  0.424  -2.413   -1.350      0.184    0.245       5.0     2.0   \n",
       "theta[8] -0.035  0.075  -0.057    0.004      0.004    0.004     407.0   193.0   \n",
       "theta[9] -0.042  0.208  -0.075    0.019      0.061    0.044      12.0    12.0   \n",
       "tau       0.041  0.089   0.013    0.067      0.019    0.013      23.0    23.0   \n",
       "\n",
       "          ess_bulk  ess_tail  r_hat  \n",
       "theta[0]       2.0      24.0    NaN  \n",
       "theta[1]       9.0      26.0    NaN  \n",
       "theta[2]       9.0      15.0    NaN  \n",
       "theta[3]       2.0      13.0    NaN  \n",
       "theta[4]       8.0      17.0    NaN  \n",
       "theta[5]       8.0      15.0    NaN  \n",
       "theta[6]       2.0      22.0    NaN  \n",
       "theta[7]       2.0      16.0    NaN  \n",
       "theta[8]      10.0      16.0    NaN  \n",
       "theta[9]       3.0      11.0    NaN  \n",
       "tau            4.0      18.0    NaN  "
      ]
     },
     "execution_count": 9,
     "metadata": {},
     "output_type": "execute_result"
    }
   ],
   "source": [
    "pm.summary(trace, var_names=['theta','tau'])"
   ]
  },
  {
   "cell_type": "code",
   "execution_count": null,
   "metadata": {},
   "outputs": [],
   "source": []
  }
 ],
 "metadata": {
  "kernelspec": {
   "display_name": "Python 3",
   "language": "python",
   "name": "python3"
  },
  "language_info": {
   "codemirror_mode": {
    "name": "ipython",
    "version": 3
   },
   "file_extension": ".py",
   "mimetype": "text/x-python",
   "name": "python",
   "nbconvert_exporter": "python",
   "pygments_lexer": "ipython3",
   "version": "3.7.6"
  }
 },
 "nbformat": 4,
 "nbformat_minor": 4
}
