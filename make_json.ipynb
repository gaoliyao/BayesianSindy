{
 "cells": [
  {
   "cell_type": "code",
   "execution_count": 1,
   "metadata": {},
   "outputs": [],
   "source": [
    "import pymc3 as pm\n",
    "import numpy as np\n",
    "import matplotlib.pyplot as plt\n",
    "import arviz as az\n",
    "import pandas"
   ]
  },
  {
   "cell_type": "code",
   "execution_count": 2,
   "metadata": {},
   "outputs": [],
   "source": [
    "from scipy.integrate import ode\n",
    "df = pandas.read_csv('hudson-bay-linx-hare.csv',header=1)\n",
    "\n",
    "year = df['Year']\n",
    "lynx = df['Lynx']\n",
    "hare = df['Hare']\n",
    "\n",
    "times = np.array(year,dtype=float)\n",
    "yobs = np.array([hare,lynx]).T \n",
    "yobs_norm = yobs/ yobs.std(axis=0)\n",
    "#N = len(times)"
   ]
  },
  {
   "cell_type": "code",
   "execution_count": 3,
   "metadata": {},
   "outputs": [],
   "source": [
    "N = len(year) - 1\n",
    "ts = np.arange(1,N+1).tolist()\n",
    "y_init = yobs_norm[0].tolist()\n",
    "y = yobs_norm[1:].tolist()"
   ]
  },
  {
   "cell_type": "code",
   "execution_count": 4,
   "metadata": {},
   "outputs": [],
   "source": [
    "lk_data = {\n",
    "    'N' : N,\n",
    "    'ts' : ts,\n",
    "    'y_init' : y_init,\n",
    "    'y' : y,\n",
    "    'slab_df' : 4.0,\n",
    "    'slab_scale' : 2.0,\n",
    "    'd' : 10,\n",
    "}\n",
    "\n",
    "import json\n",
    "with open('lk_data_real.json', 'w') as json_file:\n",
    "  json.dump(lk_data, json_file)"
   ]
  },
  {
   "cell_type": "code",
   "execution_count": null,
   "metadata": {},
   "outputs": [],
   "source": []
  }
 ],
 "metadata": {
  "kernelspec": {
   "display_name": "Python 3",
   "language": "python",
   "name": "python3"
  },
  "language_info": {
   "codemirror_mode": {
    "name": "ipython",
    "version": 3
   },
   "file_extension": ".py",
   "mimetype": "text/x-python",
   "name": "python",
   "nbconvert_exporter": "python",
   "pygments_lexer": "ipython3",
   "version": "3.7.6"
  }
 },
 "nbformat": 4,
 "nbformat_minor": 4
}
